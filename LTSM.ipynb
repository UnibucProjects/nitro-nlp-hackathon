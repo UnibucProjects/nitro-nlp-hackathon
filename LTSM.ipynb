{
  "nbformat": 4,
  "nbformat_minor": 0,
  "metadata": {
    "colab": {
      "name": "Alex.ipynb",
      "provenance": [],
      "collapsed_sections": []
    },
    "kernelspec": {
      "name": "python3",
      "display_name": "Python 3"
    },
    "language_info": {
      "name": "python"
    },
    "accelerator": "GPU"
  },
  "cells": [
    {
      "cell_type": "code",
      "source": [
        "! pip install kaggle"
      ],
      "metadata": {
        "colab": {
          "base_uri": "https://localhost:8080/"
        },
        "id": "dm2oEYANRoLB",
        "outputId": "e88ebf7a-13f3-4b6e-e812-b1579438f180"
      },
      "execution_count": 1,
      "outputs": [
        {
          "output_type": "stream",
          "name": "stdout",
          "text": [
            "Requirement already satisfied: kaggle in /usr/local/lib/python3.7/dist-packages (1.5.12)\n",
            "Requirement already satisfied: certifi in /usr/local/lib/python3.7/dist-packages (from kaggle) (2021.10.8)\n",
            "Requirement already satisfied: six>=1.10 in /usr/local/lib/python3.7/dist-packages (from kaggle) (1.15.0)\n",
            "Requirement already satisfied: tqdm in /usr/local/lib/python3.7/dist-packages (from kaggle) (4.63.0)\n",
            "Requirement already satisfied: requests in /usr/local/lib/python3.7/dist-packages (from kaggle) (2.23.0)\n",
            "Requirement already satisfied: urllib3 in /usr/local/lib/python3.7/dist-packages (from kaggle) (1.24.3)\n",
            "Requirement already satisfied: python-slugify in /usr/local/lib/python3.7/dist-packages (from kaggle) (6.1.1)\n",
            "Requirement already satisfied: python-dateutil in /usr/local/lib/python3.7/dist-packages (from kaggle) (2.8.2)\n",
            "Requirement already satisfied: text-unidecode>=1.3 in /usr/local/lib/python3.7/dist-packages (from python-slugify->kaggle) (1.3)\n",
            "Requirement already satisfied: chardet<4,>=3.0.2 in /usr/local/lib/python3.7/dist-packages (from requests->kaggle) (3.0.4)\n",
            "Requirement already satisfied: idna<3,>=2.5 in /usr/local/lib/python3.7/dist-packages (from requests->kaggle) (2.10)\n"
          ]
        }
      ]
    },
    {
      "cell_type": "code",
      "source": [
        "! mkdir ~/.kaggle"
      ],
      "metadata": {
        "id": "k0Z6CQc4RogN",
        "colab": {
          "base_uri": "https://localhost:8080/"
        },
        "outputId": "2c2fab6b-6f52-4d93-a35e-c526c254a5e3"
      },
      "execution_count": 2,
      "outputs": [
        {
          "output_type": "stream",
          "name": "stdout",
          "text": [
            "mkdir: cannot create directory ‘/root/.kaggle’: File exists\n"
          ]
        }
      ]
    },
    {
      "cell_type": "code",
      "source": [
        "! cp kaggle.json ~/.kaggle/"
      ],
      "metadata": {
        "id": "RhirFYOhRqm1"
      },
      "execution_count": 3,
      "outputs": []
    },
    {
      "cell_type": "code",
      "source": [
        "! chmod 600 ~/.kaggle/kaggle.json"
      ],
      "metadata": {
        "id": "oFui1BpZRshN"
      },
      "execution_count": 4,
      "outputs": []
    },
    {
      "cell_type": "code",
      "execution_count": 5,
      "metadata": {
        "colab": {
          "base_uri": "https://localhost:8080/"
        },
        "id": "li46VADUIeQL",
        "outputId": "446a014b-07de-48f9-e32a-496b476b0a0a"
      },
      "outputs": [
        {
          "output_type": "stream",
          "name": "stdout",
          "text": [
            "nitro-lang-processing-1.zip: Skipping, found more recently modified local copy (use --force to force download)\n"
          ]
        }
      ],
      "source": [
        "! kaggle competitions download -c nitro-lang-processing-1"
      ]
    },
    {
      "cell_type": "code",
      "source": [
        "! unzip nitro-lang-processing-1.zip"
      ],
      "metadata": {
        "colab": {
          "base_uri": "https://localhost:8080/"
        },
        "id": "WVGLU4ndRujS",
        "outputId": "f66c49c2-6a04-4f79-90c0-4c2b38408e1d"
      },
      "execution_count": 6,
      "outputs": [
        {
          "output_type": "stream",
          "name": "stdout",
          "text": [
            "Archive:  nitro-lang-processing-1.zip\n",
            "replace random_seed_setter.py? [y]es, [n]o, [A]ll, [N]one, [r]ename: n\n",
            "replace sample_submission.csv? [y]es, [n]o, [A]ll, [N]one, [r]ename: \n",
            "error:  invalid response [{ENTER}]\n",
            "replace sample_submission.csv? [y]es, [n]o, [A]ll, [N]one, [r]ename: \n",
            "error:  invalid response [{ENTER}]\n",
            "replace sample_submission.csv? [y]es, [n]o, [A]ll, [N]one, [r]ename: N\n"
          ]
        }
      ]
    },
    {
      "cell_type": "code",
      "source": [
        "import json\n",
        "import pandas as pd"
      ],
      "metadata": {
        "id": "mhLo-YwFSmuj"
      },
      "execution_count": 7,
      "outputs": []
    },
    {
      "cell_type": "code",
      "source": [
        "path = './train.json'"
      ],
      "metadata": {
        "id": "9pTbVGfJSkNv"
      },
      "execution_count": 8,
      "outputs": []
    },
    {
      "cell_type": "code",
      "source": [
        "continuturi = pd.read_json(path)"
      ],
      "metadata": {
        "id": "_hIZvtLmSJRq"
      },
      "execution_count": 9,
      "outputs": []
    },
    {
      "cell_type": "code",
      "source": [
        "continuturi"
      ],
      "metadata": {
        "colab": {
          "base_uri": "https://localhost:8080/",
          "height": 641
        },
        "id": "dfejuRZoS3HI",
        "outputId": "138a2f1c-1803-43d3-da3f-a238dd2d141c"
      },
      "execution_count": 10,
      "outputs": [
        {
          "output_type": "execute_result",
          "data": {
            "text/plain": [
              "                                                ner_tags  \\\n",
              "0      [O, GPE, O, O, O, O, O, O, LOC, O, O, O, O, O,...   \n",
              "1      [O, O, O, DATETIME, DATETIME, O, O, O, O, O, O...   \n",
              "2      [O, O, O, O, O, NUMERIC, O, O, O, PERSON, O, P...   \n",
              "3      [O, O, O, O, O, O, O, O, O, O, O, DATETIME, DA...   \n",
              "4      [O, O, O, O, O, O, O, O, O, O, O, O, O, O, O, ...   \n",
              "...                                                  ...   \n",
              "12325  [O, O, NUMERIC, O, O, O, O, O, O, O, O, O, O, ...   \n",
              "12326  [O, O, O, O, O, GPE, O, O, O, O, GPE, O, GPE, ...   \n",
              "12327  [PERSON, O, O, O, O, ORG, O, PERSON, PERSON, O...   \n",
              "12328  [O, O, O, O, O, O, O, O, O, O, O, O, O, O, O, ...   \n",
              "12329  [O, O, O, PERSON, O, O, O, O, O, O, O, O, O, O...   \n",
              "\n",
              "                                                 ner_ids  \\\n",
              "0      [0, 3, 0, 0, 0, 0, 0, 0, 4, 0, 0, 0, 0, 0, 0, ...   \n",
              "1      [0, 0, 0, 9, 9, 0, 0, 0, 0, 0, 0, 0, 13, 13, 1...   \n",
              "2      [0, 0, 0, 0, 0, 13, 0, 0, 0, 1, 0, 1, 0, 0, 1,...   \n",
              "3          [0, 0, 0, 0, 0, 0, 0, 0, 0, 0, 0, 9, 9, 9, 0]   \n",
              "4      [0, 0, 0, 0, 0, 0, 0, 0, 0, 0, 0, 0, 0, 0, 0, ...   \n",
              "...                                                  ...   \n",
              "12325  [0, 0, 13, 0, 0, 0, 0, 0, 0, 0, 0, 0, 0, 0, 0,...   \n",
              "12326  [0, 0, 0, 0, 0, 3, 0, 0, 0, 0, 3, 0, 3, 0, 0, ...   \n",
              "12327  [1, 0, 0, 0, 0, 2, 0, 1, 1, 0, 2, 0, 0, 0, 0, ...   \n",
              "12328  [0, 0, 0, 0, 0, 0, 0, 0, 0, 0, 0, 0, 0, 0, 0, ...   \n",
              "12329  [0, 0, 0, 1, 0, 0, 0, 0, 0, 0, 0, 0, 0, 0, 0, ...   \n",
              "\n",
              "                                                  tokens  \\\n",
              "0      [În, România, ,, ca, de, altfel, în, întreaga,...   \n",
              "1      [Se, estimează, că, în, prezent, acestea, sunt...   \n",
              "2      [Cartea, cuprinde, o, suită, de, 115, texte-re...   \n",
              "3      [Bursele, pentru, proiecte, ArtsLink, -, terme...   \n",
              "4      [Aplicația, informațională, este, însoțită, de...   \n",
              "...                                                  ...   \n",
              "12325  [În, Capitolul, IV, “, Rolul, unităților, de, ...   \n",
              "12326  [Naționala, de, volei, masculin, a, României, ...   \n",
              "12327  [Președintele, Comisiei, de, Buget, a, Senatul...   \n",
              "12328  [Majorarea, este, justificată, de, benzinari, ...   \n",
              "12329  [Între, timp, ,, concubina, acestuia, și-, a, ...   \n",
              "\n",
              "                                             space_after  \n",
              "0      [True, False, True, True, True, True, True, Tr...  \n",
              "1      [True, True, True, True, True, True, True, Tru...  \n",
              "2      [True, True, True, True, True, True, True, Tru...  \n",
              "3      [True, True, True, True, True, True, True, Tru...  \n",
              "4      [True, True, True, True, True, True, True, Tru...  \n",
              "...                                                  ...  \n",
              "12325  [True, True, True, False, True, True, True, Tr...  \n",
              "12326  [True, True, True, True, True, True, True, Fal...  \n",
              "12327  [True, True, True, True, True, False, True, Tr...  \n",
              "12328  [True, True, True, True, True, True, True, Tru...  \n",
              "12329  [True, False, True, True, True, False, True, T...  \n",
              "\n",
              "[12330 rows x 4 columns]"
            ],
            "text/html": [
              "\n",
              "  <div id=\"df-c9777b7a-e82b-4411-bc84-3ac525bdba23\">\n",
              "    <div class=\"colab-df-container\">\n",
              "      <div>\n",
              "<style scoped>\n",
              "    .dataframe tbody tr th:only-of-type {\n",
              "        vertical-align: middle;\n",
              "    }\n",
              "\n",
              "    .dataframe tbody tr th {\n",
              "        vertical-align: top;\n",
              "    }\n",
              "\n",
              "    .dataframe thead th {\n",
              "        text-align: right;\n",
              "    }\n",
              "</style>\n",
              "<table border=\"1\" class=\"dataframe\">\n",
              "  <thead>\n",
              "    <tr style=\"text-align: right;\">\n",
              "      <th></th>\n",
              "      <th>ner_tags</th>\n",
              "      <th>ner_ids</th>\n",
              "      <th>tokens</th>\n",
              "      <th>space_after</th>\n",
              "    </tr>\n",
              "  </thead>\n",
              "  <tbody>\n",
              "    <tr>\n",
              "      <th>0</th>\n",
              "      <td>[O, GPE, O, O, O, O, O, O, LOC, O, O, O, O, O,...</td>\n",
              "      <td>[0, 3, 0, 0, 0, 0, 0, 0, 4, 0, 0, 0, 0, 0, 0, ...</td>\n",
              "      <td>[În, România, ,, ca, de, altfel, în, întreaga,...</td>\n",
              "      <td>[True, False, True, True, True, True, True, Tr...</td>\n",
              "    </tr>\n",
              "    <tr>\n",
              "      <th>1</th>\n",
              "      <td>[O, O, O, DATETIME, DATETIME, O, O, O, O, O, O...</td>\n",
              "      <td>[0, 0, 0, 9, 9, 0, 0, 0, 0, 0, 0, 0, 13, 13, 1...</td>\n",
              "      <td>[Se, estimează, că, în, prezent, acestea, sunt...</td>\n",
              "      <td>[True, True, True, True, True, True, True, Tru...</td>\n",
              "    </tr>\n",
              "    <tr>\n",
              "      <th>2</th>\n",
              "      <td>[O, O, O, O, O, NUMERIC, O, O, O, PERSON, O, P...</td>\n",
              "      <td>[0, 0, 0, 0, 0, 13, 0, 0, 0, 1, 0, 1, 0, 0, 1,...</td>\n",
              "      <td>[Cartea, cuprinde, o, suită, de, 115, texte-re...</td>\n",
              "      <td>[True, True, True, True, True, True, True, Tru...</td>\n",
              "    </tr>\n",
              "    <tr>\n",
              "      <th>3</th>\n",
              "      <td>[O, O, O, O, O, O, O, O, O, O, O, DATETIME, DA...</td>\n",
              "      <td>[0, 0, 0, 0, 0, 0, 0, 0, 0, 0, 0, 9, 9, 9, 0]</td>\n",
              "      <td>[Bursele, pentru, proiecte, ArtsLink, -, terme...</td>\n",
              "      <td>[True, True, True, True, True, True, True, Tru...</td>\n",
              "    </tr>\n",
              "    <tr>\n",
              "      <th>4</th>\n",
              "      <td>[O, O, O, O, O, O, O, O, O, O, O, O, O, O, O, ...</td>\n",
              "      <td>[0, 0, 0, 0, 0, 0, 0, 0, 0, 0, 0, 0, 0, 0, 0, ...</td>\n",
              "      <td>[Aplicația, informațională, este, însoțită, de...</td>\n",
              "      <td>[True, True, True, True, True, True, True, Tru...</td>\n",
              "    </tr>\n",
              "    <tr>\n",
              "      <th>...</th>\n",
              "      <td>...</td>\n",
              "      <td>...</td>\n",
              "      <td>...</td>\n",
              "      <td>...</td>\n",
              "    </tr>\n",
              "    <tr>\n",
              "      <th>12325</th>\n",
              "      <td>[O, O, NUMERIC, O, O, O, O, O, O, O, O, O, O, ...</td>\n",
              "      <td>[0, 0, 13, 0, 0, 0, 0, 0, 0, 0, 0, 0, 0, 0, 0,...</td>\n",
              "      <td>[În, Capitolul, IV, “, Rolul, unităților, de, ...</td>\n",
              "      <td>[True, True, True, False, True, True, True, Tr...</td>\n",
              "    </tr>\n",
              "    <tr>\n",
              "      <th>12326</th>\n",
              "      <td>[O, O, O, O, O, GPE, O, O, O, O, GPE, O, GPE, ...</td>\n",
              "      <td>[0, 0, 0, 0, 0, 3, 0, 0, 0, 0, 3, 0, 3, 0, 0, ...</td>\n",
              "      <td>[Naționala, de, volei, masculin, a, României, ...</td>\n",
              "      <td>[True, True, True, True, True, True, True, Fal...</td>\n",
              "    </tr>\n",
              "    <tr>\n",
              "      <th>12327</th>\n",
              "      <td>[PERSON, O, O, O, O, ORG, O, PERSON, PERSON, O...</td>\n",
              "      <td>[1, 0, 0, 0, 0, 2, 0, 1, 1, 0, 2, 0, 0, 0, 0, ...</td>\n",
              "      <td>[Președintele, Comisiei, de, Buget, a, Senatul...</td>\n",
              "      <td>[True, True, True, True, True, False, True, Tr...</td>\n",
              "    </tr>\n",
              "    <tr>\n",
              "      <th>12328</th>\n",
              "      <td>[O, O, O, O, O, O, O, O, O, O, O, O, O, O, O, ...</td>\n",
              "      <td>[0, 0, 0, 0, 0, 0, 0, 0, 0, 0, 0, 0, 0, 0, 0, ...</td>\n",
              "      <td>[Majorarea, este, justificată, de, benzinari, ...</td>\n",
              "      <td>[True, True, True, True, True, True, True, Tru...</td>\n",
              "    </tr>\n",
              "    <tr>\n",
              "      <th>12329</th>\n",
              "      <td>[O, O, O, PERSON, O, O, O, O, O, O, O, O, O, O...</td>\n",
              "      <td>[0, 0, 0, 1, 0, 0, 0, 0, 0, 0, 0, 0, 0, 0, 0, ...</td>\n",
              "      <td>[Între, timp, ,, concubina, acestuia, și-, a, ...</td>\n",
              "      <td>[True, False, True, True, True, False, True, T...</td>\n",
              "    </tr>\n",
              "  </tbody>\n",
              "</table>\n",
              "<p>12330 rows × 4 columns</p>\n",
              "</div>\n",
              "      <button class=\"colab-df-convert\" onclick=\"convertToInteractive('df-c9777b7a-e82b-4411-bc84-3ac525bdba23')\"\n",
              "              title=\"Convert this dataframe to an interactive table.\"\n",
              "              style=\"display:none;\">\n",
              "        \n",
              "  <svg xmlns=\"http://www.w3.org/2000/svg\" height=\"24px\"viewBox=\"0 0 24 24\"\n",
              "       width=\"24px\">\n",
              "    <path d=\"M0 0h24v24H0V0z\" fill=\"none\"/>\n",
              "    <path d=\"M18.56 5.44l.94 2.06.94-2.06 2.06-.94-2.06-.94-.94-2.06-.94 2.06-2.06.94zm-11 1L8.5 8.5l.94-2.06 2.06-.94-2.06-.94L8.5 2.5l-.94 2.06-2.06.94zm10 10l.94 2.06.94-2.06 2.06-.94-2.06-.94-.94-2.06-.94 2.06-2.06.94z\"/><path d=\"M17.41 7.96l-1.37-1.37c-.4-.4-.92-.59-1.43-.59-.52 0-1.04.2-1.43.59L10.3 9.45l-7.72 7.72c-.78.78-.78 2.05 0 2.83L4 21.41c.39.39.9.59 1.41.59.51 0 1.02-.2 1.41-.59l7.78-7.78 2.81-2.81c.8-.78.8-2.07 0-2.86zM5.41 20L4 18.59l7.72-7.72 1.47 1.35L5.41 20z\"/>\n",
              "  </svg>\n",
              "      </button>\n",
              "      \n",
              "  <style>\n",
              "    .colab-df-container {\n",
              "      display:flex;\n",
              "      flex-wrap:wrap;\n",
              "      gap: 12px;\n",
              "    }\n",
              "\n",
              "    .colab-df-convert {\n",
              "      background-color: #E8F0FE;\n",
              "      border: none;\n",
              "      border-radius: 50%;\n",
              "      cursor: pointer;\n",
              "      display: none;\n",
              "      fill: #1967D2;\n",
              "      height: 32px;\n",
              "      padding: 0 0 0 0;\n",
              "      width: 32px;\n",
              "    }\n",
              "\n",
              "    .colab-df-convert:hover {\n",
              "      background-color: #E2EBFA;\n",
              "      box-shadow: 0px 1px 2px rgba(60, 64, 67, 0.3), 0px 1px 3px 1px rgba(60, 64, 67, 0.15);\n",
              "      fill: #174EA6;\n",
              "    }\n",
              "\n",
              "    [theme=dark] .colab-df-convert {\n",
              "      background-color: #3B4455;\n",
              "      fill: #D2E3FC;\n",
              "    }\n",
              "\n",
              "    [theme=dark] .colab-df-convert:hover {\n",
              "      background-color: #434B5C;\n",
              "      box-shadow: 0px 1px 3px 1px rgba(0, 0, 0, 0.15);\n",
              "      filter: drop-shadow(0px 1px 2px rgba(0, 0, 0, 0.3));\n",
              "      fill: #FFFFFF;\n",
              "    }\n",
              "  </style>\n",
              "\n",
              "      <script>\n",
              "        const buttonEl =\n",
              "          document.querySelector('#df-c9777b7a-e82b-4411-bc84-3ac525bdba23 button.colab-df-convert');\n",
              "        buttonEl.style.display =\n",
              "          google.colab.kernel.accessAllowed ? 'block' : 'none';\n",
              "\n",
              "        async function convertToInteractive(key) {\n",
              "          const element = document.querySelector('#df-c9777b7a-e82b-4411-bc84-3ac525bdba23');\n",
              "          const dataTable =\n",
              "            await google.colab.kernel.invokeFunction('convertToInteractive',\n",
              "                                                     [key], {});\n",
              "          if (!dataTable) return;\n",
              "\n",
              "          const docLinkHtml = 'Like what you see? Visit the ' +\n",
              "            '<a target=\"_blank\" href=https://colab.research.google.com/notebooks/data_table.ipynb>data table notebook</a>'\n",
              "            + ' to learn more about interactive tables.';\n",
              "          element.innerHTML = '';\n",
              "          dataTable['output_type'] = 'display_data';\n",
              "          await google.colab.output.renderOutput(dataTable, element);\n",
              "          const docLink = document.createElement('div');\n",
              "          docLink.innerHTML = docLinkHtml;\n",
              "          element.appendChild(docLink);\n",
              "        }\n",
              "      </script>\n",
              "    </div>\n",
              "  </div>\n",
              "  "
            ]
          },
          "metadata": {},
          "execution_count": 10
        }
      ]
    },
    {
      "cell_type": "code",
      "source": [
        "continuturi.describe()"
      ],
      "metadata": {
        "colab": {
          "base_uri": "https://localhost:8080/",
          "height": 219
        },
        "id": "8_rH8XbEStDx",
        "outputId": "95f72439-5918-42f7-da69-1001200ad9d4"
      },
      "execution_count": 11,
      "outputs": [
        {
          "output_type": "execute_result",
          "data": {
            "text/plain": [
              "                                                 ner_tags  \\\n",
              "count                                               12330   \n",
              "unique                                              12064   \n",
              "top     [O, O, O, O, O, NUMERIC, O, PERSON, O, O, O, G...   \n",
              "freq                                                   21   \n",
              "\n",
              "                                                  ner_ids  \\\n",
              "count                                               12330   \n",
              "unique                                              12064   \n",
              "top     [0, 0, 0, 0, 0, 13, 0, 1, 0, 0, 0, 3, 0, 0, 0,...   \n",
              "freq                                                   21   \n",
              "\n",
              "                                                   tokens  \\\n",
              "count                                               12330   \n",
              "unique                                              12326   \n",
              "top     [Conducătorul, auto, Leonard, Nicol, S., ,, de...   \n",
              "freq                                                    2   \n",
              "\n",
              "                                              space_after  \n",
              "count                                               12330  \n",
              "unique                                              10823  \n",
              "top     [True, True, True, True, True, True, True, Tru...  \n",
              "freq                                                   42  "
            ],
            "text/html": [
              "\n",
              "  <div id=\"df-5ad9efd0-b214-48a2-a5ae-11b62000605d\">\n",
              "    <div class=\"colab-df-container\">\n",
              "      <div>\n",
              "<style scoped>\n",
              "    .dataframe tbody tr th:only-of-type {\n",
              "        vertical-align: middle;\n",
              "    }\n",
              "\n",
              "    .dataframe tbody tr th {\n",
              "        vertical-align: top;\n",
              "    }\n",
              "\n",
              "    .dataframe thead th {\n",
              "        text-align: right;\n",
              "    }\n",
              "</style>\n",
              "<table border=\"1\" class=\"dataframe\">\n",
              "  <thead>\n",
              "    <tr style=\"text-align: right;\">\n",
              "      <th></th>\n",
              "      <th>ner_tags</th>\n",
              "      <th>ner_ids</th>\n",
              "      <th>tokens</th>\n",
              "      <th>space_after</th>\n",
              "    </tr>\n",
              "  </thead>\n",
              "  <tbody>\n",
              "    <tr>\n",
              "      <th>count</th>\n",
              "      <td>12330</td>\n",
              "      <td>12330</td>\n",
              "      <td>12330</td>\n",
              "      <td>12330</td>\n",
              "    </tr>\n",
              "    <tr>\n",
              "      <th>unique</th>\n",
              "      <td>12064</td>\n",
              "      <td>12064</td>\n",
              "      <td>12326</td>\n",
              "      <td>10823</td>\n",
              "    </tr>\n",
              "    <tr>\n",
              "      <th>top</th>\n",
              "      <td>[O, O, O, O, O, NUMERIC, O, PERSON, O, O, O, G...</td>\n",
              "      <td>[0, 0, 0, 0, 0, 13, 0, 1, 0, 0, 0, 3, 0, 0, 0,...</td>\n",
              "      <td>[Conducătorul, auto, Leonard, Nicol, S., ,, de...</td>\n",
              "      <td>[True, True, True, True, True, True, True, Tru...</td>\n",
              "    </tr>\n",
              "    <tr>\n",
              "      <th>freq</th>\n",
              "      <td>21</td>\n",
              "      <td>21</td>\n",
              "      <td>2</td>\n",
              "      <td>42</td>\n",
              "    </tr>\n",
              "  </tbody>\n",
              "</table>\n",
              "</div>\n",
              "      <button class=\"colab-df-convert\" onclick=\"convertToInteractive('df-5ad9efd0-b214-48a2-a5ae-11b62000605d')\"\n",
              "              title=\"Convert this dataframe to an interactive table.\"\n",
              "              style=\"display:none;\">\n",
              "        \n",
              "  <svg xmlns=\"http://www.w3.org/2000/svg\" height=\"24px\"viewBox=\"0 0 24 24\"\n",
              "       width=\"24px\">\n",
              "    <path d=\"M0 0h24v24H0V0z\" fill=\"none\"/>\n",
              "    <path d=\"M18.56 5.44l.94 2.06.94-2.06 2.06-.94-2.06-.94-.94-2.06-.94 2.06-2.06.94zm-11 1L8.5 8.5l.94-2.06 2.06-.94-2.06-.94L8.5 2.5l-.94 2.06-2.06.94zm10 10l.94 2.06.94-2.06 2.06-.94-2.06-.94-.94-2.06-.94 2.06-2.06.94z\"/><path d=\"M17.41 7.96l-1.37-1.37c-.4-.4-.92-.59-1.43-.59-.52 0-1.04.2-1.43.59L10.3 9.45l-7.72 7.72c-.78.78-.78 2.05 0 2.83L4 21.41c.39.39.9.59 1.41.59.51 0 1.02-.2 1.41-.59l7.78-7.78 2.81-2.81c.8-.78.8-2.07 0-2.86zM5.41 20L4 18.59l7.72-7.72 1.47 1.35L5.41 20z\"/>\n",
              "  </svg>\n",
              "      </button>\n",
              "      \n",
              "  <style>\n",
              "    .colab-df-container {\n",
              "      display:flex;\n",
              "      flex-wrap:wrap;\n",
              "      gap: 12px;\n",
              "    }\n",
              "\n",
              "    .colab-df-convert {\n",
              "      background-color: #E8F0FE;\n",
              "      border: none;\n",
              "      border-radius: 50%;\n",
              "      cursor: pointer;\n",
              "      display: none;\n",
              "      fill: #1967D2;\n",
              "      height: 32px;\n",
              "      padding: 0 0 0 0;\n",
              "      width: 32px;\n",
              "    }\n",
              "\n",
              "    .colab-df-convert:hover {\n",
              "      background-color: #E2EBFA;\n",
              "      box-shadow: 0px 1px 2px rgba(60, 64, 67, 0.3), 0px 1px 3px 1px rgba(60, 64, 67, 0.15);\n",
              "      fill: #174EA6;\n",
              "    }\n",
              "\n",
              "    [theme=dark] .colab-df-convert {\n",
              "      background-color: #3B4455;\n",
              "      fill: #D2E3FC;\n",
              "    }\n",
              "\n",
              "    [theme=dark] .colab-df-convert:hover {\n",
              "      background-color: #434B5C;\n",
              "      box-shadow: 0px 1px 3px 1px rgba(0, 0, 0, 0.15);\n",
              "      filter: drop-shadow(0px 1px 2px rgba(0, 0, 0, 0.3));\n",
              "      fill: #FFFFFF;\n",
              "    }\n",
              "  </style>\n",
              "\n",
              "      <script>\n",
              "        const buttonEl =\n",
              "          document.querySelector('#df-5ad9efd0-b214-48a2-a5ae-11b62000605d button.colab-df-convert');\n",
              "        buttonEl.style.display =\n",
              "          google.colab.kernel.accessAllowed ? 'block' : 'none';\n",
              "\n",
              "        async function convertToInteractive(key) {\n",
              "          const element = document.querySelector('#df-5ad9efd0-b214-48a2-a5ae-11b62000605d');\n",
              "          const dataTable =\n",
              "            await google.colab.kernel.invokeFunction('convertToInteractive',\n",
              "                                                     [key], {});\n",
              "          if (!dataTable) return;\n",
              "\n",
              "          const docLinkHtml = 'Like what you see? Visit the ' +\n",
              "            '<a target=\"_blank\" href=https://colab.research.google.com/notebooks/data_table.ipynb>data table notebook</a>'\n",
              "            + ' to learn more about interactive tables.';\n",
              "          element.innerHTML = '';\n",
              "          dataTable['output_type'] = 'display_data';\n",
              "          await google.colab.output.renderOutput(dataTable, element);\n",
              "          const docLink = document.createElement('div');\n",
              "          docLink.innerHTML = docLinkHtml;\n",
              "          element.appendChild(docLink);\n",
              "        }\n",
              "      </script>\n",
              "    </div>\n",
              "  </div>\n",
              "  "
            ]
          },
          "metadata": {},
          "execution_count": 11
        }
      ]
    },
    {
      "cell_type": "code",
      "source": [
        "continuturi.head()"
      ],
      "metadata": {
        "colab": {
          "base_uri": "https://localhost:8080/",
          "height": 250
        },
        "id": "vl2oBtqzTSET",
        "outputId": "66689a30-154e-41b9-e237-b255fca86446"
      },
      "execution_count": 12,
      "outputs": [
        {
          "output_type": "execute_result",
          "data": {
            "text/plain": [
              "                                            ner_tags  \\\n",
              "0  [O, GPE, O, O, O, O, O, O, LOC, O, O, O, O, O,...   \n",
              "1  [O, O, O, DATETIME, DATETIME, O, O, O, O, O, O...   \n",
              "2  [O, O, O, O, O, NUMERIC, O, O, O, PERSON, O, P...   \n",
              "3  [O, O, O, O, O, O, O, O, O, O, O, DATETIME, DA...   \n",
              "4  [O, O, O, O, O, O, O, O, O, O, O, O, O, O, O, ...   \n",
              "\n",
              "                                             ner_ids  \\\n",
              "0  [0, 3, 0, 0, 0, 0, 0, 0, 4, 0, 0, 0, 0, 0, 0, ...   \n",
              "1  [0, 0, 0, 9, 9, 0, 0, 0, 0, 0, 0, 0, 13, 13, 1...   \n",
              "2  [0, 0, 0, 0, 0, 13, 0, 0, 0, 1, 0, 1, 0, 0, 1,...   \n",
              "3      [0, 0, 0, 0, 0, 0, 0, 0, 0, 0, 0, 9, 9, 9, 0]   \n",
              "4  [0, 0, 0, 0, 0, 0, 0, 0, 0, 0, 0, 0, 0, 0, 0, ...   \n",
              "\n",
              "                                              tokens  \\\n",
              "0  [În, România, ,, ca, de, altfel, în, întreaga,...   \n",
              "1  [Se, estimează, că, în, prezent, acestea, sunt...   \n",
              "2  [Cartea, cuprinde, o, suită, de, 115, texte-re...   \n",
              "3  [Bursele, pentru, proiecte, ArtsLink, -, terme...   \n",
              "4  [Aplicația, informațională, este, însoțită, de...   \n",
              "\n",
              "                                         space_after  \n",
              "0  [True, False, True, True, True, True, True, Tr...  \n",
              "1  [True, True, True, True, True, True, True, Tru...  \n",
              "2  [True, True, True, True, True, True, True, Tru...  \n",
              "3  [True, True, True, True, True, True, True, Tru...  \n",
              "4  [True, True, True, True, True, True, True, Tru...  "
            ],
            "text/html": [
              "\n",
              "  <div id=\"df-cb8217f7-e020-41fb-94f8-d1a8d5cb9ae7\">\n",
              "    <div class=\"colab-df-container\">\n",
              "      <div>\n",
              "<style scoped>\n",
              "    .dataframe tbody tr th:only-of-type {\n",
              "        vertical-align: middle;\n",
              "    }\n",
              "\n",
              "    .dataframe tbody tr th {\n",
              "        vertical-align: top;\n",
              "    }\n",
              "\n",
              "    .dataframe thead th {\n",
              "        text-align: right;\n",
              "    }\n",
              "</style>\n",
              "<table border=\"1\" class=\"dataframe\">\n",
              "  <thead>\n",
              "    <tr style=\"text-align: right;\">\n",
              "      <th></th>\n",
              "      <th>ner_tags</th>\n",
              "      <th>ner_ids</th>\n",
              "      <th>tokens</th>\n",
              "      <th>space_after</th>\n",
              "    </tr>\n",
              "  </thead>\n",
              "  <tbody>\n",
              "    <tr>\n",
              "      <th>0</th>\n",
              "      <td>[O, GPE, O, O, O, O, O, O, LOC, O, O, O, O, O,...</td>\n",
              "      <td>[0, 3, 0, 0, 0, 0, 0, 0, 4, 0, 0, 0, 0, 0, 0, ...</td>\n",
              "      <td>[În, România, ,, ca, de, altfel, în, întreaga,...</td>\n",
              "      <td>[True, False, True, True, True, True, True, Tr...</td>\n",
              "    </tr>\n",
              "    <tr>\n",
              "      <th>1</th>\n",
              "      <td>[O, O, O, DATETIME, DATETIME, O, O, O, O, O, O...</td>\n",
              "      <td>[0, 0, 0, 9, 9, 0, 0, 0, 0, 0, 0, 0, 13, 13, 1...</td>\n",
              "      <td>[Se, estimează, că, în, prezent, acestea, sunt...</td>\n",
              "      <td>[True, True, True, True, True, True, True, Tru...</td>\n",
              "    </tr>\n",
              "    <tr>\n",
              "      <th>2</th>\n",
              "      <td>[O, O, O, O, O, NUMERIC, O, O, O, PERSON, O, P...</td>\n",
              "      <td>[0, 0, 0, 0, 0, 13, 0, 0, 0, 1, 0, 1, 0, 0, 1,...</td>\n",
              "      <td>[Cartea, cuprinde, o, suită, de, 115, texte-re...</td>\n",
              "      <td>[True, True, True, True, True, True, True, Tru...</td>\n",
              "    </tr>\n",
              "    <tr>\n",
              "      <th>3</th>\n",
              "      <td>[O, O, O, O, O, O, O, O, O, O, O, DATETIME, DA...</td>\n",
              "      <td>[0, 0, 0, 0, 0, 0, 0, 0, 0, 0, 0, 9, 9, 9, 0]</td>\n",
              "      <td>[Bursele, pentru, proiecte, ArtsLink, -, terme...</td>\n",
              "      <td>[True, True, True, True, True, True, True, Tru...</td>\n",
              "    </tr>\n",
              "    <tr>\n",
              "      <th>4</th>\n",
              "      <td>[O, O, O, O, O, O, O, O, O, O, O, O, O, O, O, ...</td>\n",
              "      <td>[0, 0, 0, 0, 0, 0, 0, 0, 0, 0, 0, 0, 0, 0, 0, ...</td>\n",
              "      <td>[Aplicația, informațională, este, însoțită, de...</td>\n",
              "      <td>[True, True, True, True, True, True, True, Tru...</td>\n",
              "    </tr>\n",
              "  </tbody>\n",
              "</table>\n",
              "</div>\n",
              "      <button class=\"colab-df-convert\" onclick=\"convertToInteractive('df-cb8217f7-e020-41fb-94f8-d1a8d5cb9ae7')\"\n",
              "              title=\"Convert this dataframe to an interactive table.\"\n",
              "              style=\"display:none;\">\n",
              "        \n",
              "  <svg xmlns=\"http://www.w3.org/2000/svg\" height=\"24px\"viewBox=\"0 0 24 24\"\n",
              "       width=\"24px\">\n",
              "    <path d=\"M0 0h24v24H0V0z\" fill=\"none\"/>\n",
              "    <path d=\"M18.56 5.44l.94 2.06.94-2.06 2.06-.94-2.06-.94-.94-2.06-.94 2.06-2.06.94zm-11 1L8.5 8.5l.94-2.06 2.06-.94-2.06-.94L8.5 2.5l-.94 2.06-2.06.94zm10 10l.94 2.06.94-2.06 2.06-.94-2.06-.94-.94-2.06-.94 2.06-2.06.94z\"/><path d=\"M17.41 7.96l-1.37-1.37c-.4-.4-.92-.59-1.43-.59-.52 0-1.04.2-1.43.59L10.3 9.45l-7.72 7.72c-.78.78-.78 2.05 0 2.83L4 21.41c.39.39.9.59 1.41.59.51 0 1.02-.2 1.41-.59l7.78-7.78 2.81-2.81c.8-.78.8-2.07 0-2.86zM5.41 20L4 18.59l7.72-7.72 1.47 1.35L5.41 20z\"/>\n",
              "  </svg>\n",
              "      </button>\n",
              "      \n",
              "  <style>\n",
              "    .colab-df-container {\n",
              "      display:flex;\n",
              "      flex-wrap:wrap;\n",
              "      gap: 12px;\n",
              "    }\n",
              "\n",
              "    .colab-df-convert {\n",
              "      background-color: #E8F0FE;\n",
              "      border: none;\n",
              "      border-radius: 50%;\n",
              "      cursor: pointer;\n",
              "      display: none;\n",
              "      fill: #1967D2;\n",
              "      height: 32px;\n",
              "      padding: 0 0 0 0;\n",
              "      width: 32px;\n",
              "    }\n",
              "\n",
              "    .colab-df-convert:hover {\n",
              "      background-color: #E2EBFA;\n",
              "      box-shadow: 0px 1px 2px rgba(60, 64, 67, 0.3), 0px 1px 3px 1px rgba(60, 64, 67, 0.15);\n",
              "      fill: #174EA6;\n",
              "    }\n",
              "\n",
              "    [theme=dark] .colab-df-convert {\n",
              "      background-color: #3B4455;\n",
              "      fill: #D2E3FC;\n",
              "    }\n",
              "\n",
              "    [theme=dark] .colab-df-convert:hover {\n",
              "      background-color: #434B5C;\n",
              "      box-shadow: 0px 1px 3px 1px rgba(0, 0, 0, 0.15);\n",
              "      filter: drop-shadow(0px 1px 2px rgba(0, 0, 0, 0.3));\n",
              "      fill: #FFFFFF;\n",
              "    }\n",
              "  </style>\n",
              "\n",
              "      <script>\n",
              "        const buttonEl =\n",
              "          document.querySelector('#df-cb8217f7-e020-41fb-94f8-d1a8d5cb9ae7 button.colab-df-convert');\n",
              "        buttonEl.style.display =\n",
              "          google.colab.kernel.accessAllowed ? 'block' : 'none';\n",
              "\n",
              "        async function convertToInteractive(key) {\n",
              "          const element = document.querySelector('#df-cb8217f7-e020-41fb-94f8-d1a8d5cb9ae7');\n",
              "          const dataTable =\n",
              "            await google.colab.kernel.invokeFunction('convertToInteractive',\n",
              "                                                     [key], {});\n",
              "          if (!dataTable) return;\n",
              "\n",
              "          const docLinkHtml = 'Like what you see? Visit the ' +\n",
              "            '<a target=\"_blank\" href=https://colab.research.google.com/notebooks/data_table.ipynb>data table notebook</a>'\n",
              "            + ' to learn more about interactive tables.';\n",
              "          element.innerHTML = '';\n",
              "          dataTable['output_type'] = 'display_data';\n",
              "          await google.colab.output.renderOutput(dataTable, element);\n",
              "          const docLink = document.createElement('div');\n",
              "          docLink.innerHTML = docLinkHtml;\n",
              "          element.appendChild(docLink);\n",
              "        }\n",
              "      </script>\n",
              "    </div>\n",
              "  </div>\n",
              "  "
            ]
          },
          "metadata": {},
          "execution_count": 12
        }
      ]
    },
    {
      "cell_type": "code",
      "source": [
        "n = len(continuturi)\n",
        "sentences = []\n",
        "for i in range(n):\n",
        "    sentence = \"\"\n",
        "    for j, token in enumerate(continuturi[\"tokens\"][i]):\n",
        "        sentence += token\n",
        "        if continuturi[\"space_after\"][i][j]:\n",
        "            sentence += \" \"\n",
        "    sentences.append(sentence)\n",
        "\n",
        "continuturi[\"sentences\"] = sentences"
      ],
      "metadata": {
        "id": "N5RFE-MBTzK4"
      },
      "execution_count": 13,
      "outputs": []
    },
    {
      "cell_type": "code",
      "source": [
        "continuturi[\"sentences\"][0]"
      ],
      "metadata": {
        "colab": {
          "base_uri": "https://localhost:8080/",
          "height": 70
        },
        "id": "g5Hkjeb-or73",
        "outputId": "0e43e1bc-491d-41b2-c82b-3075228ed50e"
      },
      "execution_count": 14,
      "outputs": [
        {
          "output_type": "execute_result",
          "data": {
            "text/plain": [
              "'În România, ca de altfel în întreaga Europă, stand up-ul este forma de divertisment cea mai îndrăgită de tineri în acest moment, comediantii reușind să umple săli care erau destinate mai degrabă artiștilor din zona muzicii pop rock, iar Badea, Bordea și Micutzu sunt printre cei care au contribuit direct la succesul acestei forme de divertisment în țara noastră.'"
            ],
            "application/vnd.google.colaboratory.intrinsic+json": {
              "type": "string"
            }
          },
          "metadata": {},
          "execution_count": 14
        }
      ]
    },
    {
      "cell_type": "markdown",
      "source": [
        "sursa: https://towardsdatascience.com/named-entity-recognition-ner-using-keras-bidirectional-lstm-28cd3f301f54"
      ],
      "metadata": {
        "id": "a7UWqD87ESRd"
      }
    },
    {
      "cell_type": "code",
      "source": [
        "with open(\"tag_to_id.json\") as f:\n",
        "    tag_ids = json.load(f)\n",
        "tag_ids"
      ],
      "metadata": {
        "colab": {
          "base_uri": "https://localhost:8080/"
        },
        "id": "072srGYUAwVx",
        "outputId": "6cd9a4d1-1231-4700-f282-76d89107c440"
      },
      "execution_count": 15,
      "outputs": [
        {
          "output_type": "execute_result",
          "data": {
            "text/plain": [
              "{'DATETIME': 9,\n",
              " 'EVENT': 6,\n",
              " 'FACILITY': 15,\n",
              " 'GPE': 3,\n",
              " 'LANGUAGE': 7,\n",
              " 'LOC': 4,\n",
              " 'MONEY': 11,\n",
              " 'NAT_REL_POL': 5,\n",
              " 'NUMERIC': 13,\n",
              " 'O': 0,\n",
              " 'ORDINAL': 14,\n",
              " 'ORG': 2,\n",
              " 'PERIOD': 10,\n",
              " 'PERSON': 1,\n",
              " 'QUANTITY': 12,\n",
              " 'WORK_OF_ART': 8}"
            ]
          },
          "metadata": {},
          "execution_count": 15
        }
      ]
    },
    {
      "cell_type": "code",
      "source": [
        "sentence_indexes = []\n",
        "words = []\n",
        "tags = []\n",
        "word_indexes = []\n",
        "\n",
        "vocabulary = []\n",
        "for sentence in continuturi[\"tokens\"]:\n",
        "    vocabulary.extend(sentence)\n",
        "vocabulary = list(set(vocabulary))\n",
        "words_dict = {word: i for i, word in enumerate(vocabulary)}\n",
        "\n",
        "for i, sentence in enumerate(continuturi[\"tokens\"]):\n",
        "    words.extend(sentence)\n",
        "    tags.extend(continuturi[\"ner_ids\"][i])\n",
        "    sentence_indexes.extend([i for _ in range(len(sentence))])\n",
        "    word_indexes.extend([words_dict[w] for w in sentence])\n",
        "\n",
        "contents_df = pd.DataFrame()\n",
        "contents_df[\"sentence\"] = sentence_indexes\n",
        "contents_df[\"word\"] = words\n",
        "contents_df[\"word_index\"] = word_indexes\n",
        "contents_df[\"tags\"] = tags"
      ],
      "metadata": {
        "id": "AzcaxZ3PDmts"
      },
      "execution_count": 16,
      "outputs": []
    },
    {
      "cell_type": "code",
      "source": [
        "contents_df"
      ],
      "metadata": {
        "colab": {
          "base_uri": "https://localhost:8080/",
          "height": 424
        },
        "id": "mC2siLMeEyBk",
        "outputId": "d77978b6-3fce-4dcb-e86f-d8414e0ca5f4"
      },
      "execution_count": 17,
      "outputs": [
        {
          "output_type": "execute_result",
          "data": {
            "text/plain": [
              "        sentence     word  word_index  tags\n",
              "0              0       În       62075     0\n",
              "1              0  România       52254     3\n",
              "2              0        ,       37913     0\n",
              "3              0       ca       11774     0\n",
              "4              0       de        3619     0\n",
              "...          ...      ...         ...   ...\n",
              "553158     12329        a       35806     0\n",
              "553159     12329    ieșit        3905     0\n",
              "553160     12329       în       46840     0\n",
              "553161     12329   stradă       25986     0\n",
              "553162     12329        .       10549     0\n",
              "\n",
              "[553163 rows x 4 columns]"
            ],
            "text/html": [
              "\n",
              "  <div id=\"df-5fd323f7-08e2-4011-88c2-1af3eb4ee7f0\">\n",
              "    <div class=\"colab-df-container\">\n",
              "      <div>\n",
              "<style scoped>\n",
              "    .dataframe tbody tr th:only-of-type {\n",
              "        vertical-align: middle;\n",
              "    }\n",
              "\n",
              "    .dataframe tbody tr th {\n",
              "        vertical-align: top;\n",
              "    }\n",
              "\n",
              "    .dataframe thead th {\n",
              "        text-align: right;\n",
              "    }\n",
              "</style>\n",
              "<table border=\"1\" class=\"dataframe\">\n",
              "  <thead>\n",
              "    <tr style=\"text-align: right;\">\n",
              "      <th></th>\n",
              "      <th>sentence</th>\n",
              "      <th>word</th>\n",
              "      <th>word_index</th>\n",
              "      <th>tags</th>\n",
              "    </tr>\n",
              "  </thead>\n",
              "  <tbody>\n",
              "    <tr>\n",
              "      <th>0</th>\n",
              "      <td>0</td>\n",
              "      <td>În</td>\n",
              "      <td>62075</td>\n",
              "      <td>0</td>\n",
              "    </tr>\n",
              "    <tr>\n",
              "      <th>1</th>\n",
              "      <td>0</td>\n",
              "      <td>România</td>\n",
              "      <td>52254</td>\n",
              "      <td>3</td>\n",
              "    </tr>\n",
              "    <tr>\n",
              "      <th>2</th>\n",
              "      <td>0</td>\n",
              "      <td>,</td>\n",
              "      <td>37913</td>\n",
              "      <td>0</td>\n",
              "    </tr>\n",
              "    <tr>\n",
              "      <th>3</th>\n",
              "      <td>0</td>\n",
              "      <td>ca</td>\n",
              "      <td>11774</td>\n",
              "      <td>0</td>\n",
              "    </tr>\n",
              "    <tr>\n",
              "      <th>4</th>\n",
              "      <td>0</td>\n",
              "      <td>de</td>\n",
              "      <td>3619</td>\n",
              "      <td>0</td>\n",
              "    </tr>\n",
              "    <tr>\n",
              "      <th>...</th>\n",
              "      <td>...</td>\n",
              "      <td>...</td>\n",
              "      <td>...</td>\n",
              "      <td>...</td>\n",
              "    </tr>\n",
              "    <tr>\n",
              "      <th>553158</th>\n",
              "      <td>12329</td>\n",
              "      <td>a</td>\n",
              "      <td>35806</td>\n",
              "      <td>0</td>\n",
              "    </tr>\n",
              "    <tr>\n",
              "      <th>553159</th>\n",
              "      <td>12329</td>\n",
              "      <td>ieșit</td>\n",
              "      <td>3905</td>\n",
              "      <td>0</td>\n",
              "    </tr>\n",
              "    <tr>\n",
              "      <th>553160</th>\n",
              "      <td>12329</td>\n",
              "      <td>în</td>\n",
              "      <td>46840</td>\n",
              "      <td>0</td>\n",
              "    </tr>\n",
              "    <tr>\n",
              "      <th>553161</th>\n",
              "      <td>12329</td>\n",
              "      <td>stradă</td>\n",
              "      <td>25986</td>\n",
              "      <td>0</td>\n",
              "    </tr>\n",
              "    <tr>\n",
              "      <th>553162</th>\n",
              "      <td>12329</td>\n",
              "      <td>.</td>\n",
              "      <td>10549</td>\n",
              "      <td>0</td>\n",
              "    </tr>\n",
              "  </tbody>\n",
              "</table>\n",
              "<p>553163 rows × 4 columns</p>\n",
              "</div>\n",
              "      <button class=\"colab-df-convert\" onclick=\"convertToInteractive('df-5fd323f7-08e2-4011-88c2-1af3eb4ee7f0')\"\n",
              "              title=\"Convert this dataframe to an interactive table.\"\n",
              "              style=\"display:none;\">\n",
              "        \n",
              "  <svg xmlns=\"http://www.w3.org/2000/svg\" height=\"24px\"viewBox=\"0 0 24 24\"\n",
              "       width=\"24px\">\n",
              "    <path d=\"M0 0h24v24H0V0z\" fill=\"none\"/>\n",
              "    <path d=\"M18.56 5.44l.94 2.06.94-2.06 2.06-.94-2.06-.94-.94-2.06-.94 2.06-2.06.94zm-11 1L8.5 8.5l.94-2.06 2.06-.94-2.06-.94L8.5 2.5l-.94 2.06-2.06.94zm10 10l.94 2.06.94-2.06 2.06-.94-2.06-.94-.94-2.06-.94 2.06-2.06.94z\"/><path d=\"M17.41 7.96l-1.37-1.37c-.4-.4-.92-.59-1.43-.59-.52 0-1.04.2-1.43.59L10.3 9.45l-7.72 7.72c-.78.78-.78 2.05 0 2.83L4 21.41c.39.39.9.59 1.41.59.51 0 1.02-.2 1.41-.59l7.78-7.78 2.81-2.81c.8-.78.8-2.07 0-2.86zM5.41 20L4 18.59l7.72-7.72 1.47 1.35L5.41 20z\"/>\n",
              "  </svg>\n",
              "      </button>\n",
              "      \n",
              "  <style>\n",
              "    .colab-df-container {\n",
              "      display:flex;\n",
              "      flex-wrap:wrap;\n",
              "      gap: 12px;\n",
              "    }\n",
              "\n",
              "    .colab-df-convert {\n",
              "      background-color: #E8F0FE;\n",
              "      border: none;\n",
              "      border-radius: 50%;\n",
              "      cursor: pointer;\n",
              "      display: none;\n",
              "      fill: #1967D2;\n",
              "      height: 32px;\n",
              "      padding: 0 0 0 0;\n",
              "      width: 32px;\n",
              "    }\n",
              "\n",
              "    .colab-df-convert:hover {\n",
              "      background-color: #E2EBFA;\n",
              "      box-shadow: 0px 1px 2px rgba(60, 64, 67, 0.3), 0px 1px 3px 1px rgba(60, 64, 67, 0.15);\n",
              "      fill: #174EA6;\n",
              "    }\n",
              "\n",
              "    [theme=dark] .colab-df-convert {\n",
              "      background-color: #3B4455;\n",
              "      fill: #D2E3FC;\n",
              "    }\n",
              "\n",
              "    [theme=dark] .colab-df-convert:hover {\n",
              "      background-color: #434B5C;\n",
              "      box-shadow: 0px 1px 3px 1px rgba(0, 0, 0, 0.15);\n",
              "      filter: drop-shadow(0px 1px 2px rgba(0, 0, 0, 0.3));\n",
              "      fill: #FFFFFF;\n",
              "    }\n",
              "  </style>\n",
              "\n",
              "      <script>\n",
              "        const buttonEl =\n",
              "          document.querySelector('#df-5fd323f7-08e2-4011-88c2-1af3eb4ee7f0 button.colab-df-convert');\n",
              "        buttonEl.style.display =\n",
              "          google.colab.kernel.accessAllowed ? 'block' : 'none';\n",
              "\n",
              "        async function convertToInteractive(key) {\n",
              "          const element = document.querySelector('#df-5fd323f7-08e2-4011-88c2-1af3eb4ee7f0');\n",
              "          const dataTable =\n",
              "            await google.colab.kernel.invokeFunction('convertToInteractive',\n",
              "                                                     [key], {});\n",
              "          if (!dataTable) return;\n",
              "\n",
              "          const docLinkHtml = 'Like what you see? Visit the ' +\n",
              "            '<a target=\"_blank\" href=https://colab.research.google.com/notebooks/data_table.ipynb>data table notebook</a>'\n",
              "            + ' to learn more about interactive tables.';\n",
              "          element.innerHTML = '';\n",
              "          dataTable['output_type'] = 'display_data';\n",
              "          await google.colab.output.renderOutput(dataTable, element);\n",
              "          const docLink = document.createElement('div');\n",
              "          docLink.innerHTML = docLinkHtml;\n",
              "          element.appendChild(docLink);\n",
              "        }\n",
              "      </script>\n",
              "    </div>\n",
              "  </div>\n",
              "  "
            ]
          },
          "metadata": {},
          "execution_count": 17
        }
      ]
    },
    {
      "cell_type": "code",
      "source": [
        "token_indexes = []\n",
        "for sentence in continuturi[\"tokens\"]:\n",
        "    indexes = [words_dict[w] for w in sentence]\n",
        "    token_indexes.append(indexes)\n",
        "\n",
        "continuturi[\"sentence_index\"] = range(len(continuturi[\"tokens\"]))\n",
        "continuturi[\"token_indexes\"] = token_indexes"
      ],
      "metadata": {
        "id": "kjJXxU1aLGMW"
      },
      "execution_count": 18,
      "outputs": []
    },
    {
      "cell_type": "code",
      "source": [
        "continuturi"
      ],
      "metadata": {
        "colab": {
          "base_uri": "https://localhost:8080/",
          "height": 659
        },
        "id": "4whSO_6_MsfV",
        "outputId": "5b66e552-f828-46b3-d4c1-9d05a725ac07"
      },
      "execution_count": 19,
      "outputs": [
        {
          "output_type": "execute_result",
          "data": {
            "text/plain": [
              "                                                ner_tags  \\\n",
              "0      [O, GPE, O, O, O, O, O, O, LOC, O, O, O, O, O,...   \n",
              "1      [O, O, O, DATETIME, DATETIME, O, O, O, O, O, O...   \n",
              "2      [O, O, O, O, O, NUMERIC, O, O, O, PERSON, O, P...   \n",
              "3      [O, O, O, O, O, O, O, O, O, O, O, DATETIME, DA...   \n",
              "4      [O, O, O, O, O, O, O, O, O, O, O, O, O, O, O, ...   \n",
              "...                                                  ...   \n",
              "12325  [O, O, NUMERIC, O, O, O, O, O, O, O, O, O, O, ...   \n",
              "12326  [O, O, O, O, O, GPE, O, O, O, O, GPE, O, GPE, ...   \n",
              "12327  [PERSON, O, O, O, O, ORG, O, PERSON, PERSON, O...   \n",
              "12328  [O, O, O, O, O, O, O, O, O, O, O, O, O, O, O, ...   \n",
              "12329  [O, O, O, PERSON, O, O, O, O, O, O, O, O, O, O...   \n",
              "\n",
              "                                                 ner_ids  \\\n",
              "0      [0, 3, 0, 0, 0, 0, 0, 0, 4, 0, 0, 0, 0, 0, 0, ...   \n",
              "1      [0, 0, 0, 9, 9, 0, 0, 0, 0, 0, 0, 0, 13, 13, 1...   \n",
              "2      [0, 0, 0, 0, 0, 13, 0, 0, 0, 1, 0, 1, 0, 0, 1,...   \n",
              "3          [0, 0, 0, 0, 0, 0, 0, 0, 0, 0, 0, 9, 9, 9, 0]   \n",
              "4      [0, 0, 0, 0, 0, 0, 0, 0, 0, 0, 0, 0, 0, 0, 0, ...   \n",
              "...                                                  ...   \n",
              "12325  [0, 0, 13, 0, 0, 0, 0, 0, 0, 0, 0, 0, 0, 0, 0,...   \n",
              "12326  [0, 0, 0, 0, 0, 3, 0, 0, 0, 0, 3, 0, 3, 0, 0, ...   \n",
              "12327  [1, 0, 0, 0, 0, 2, 0, 1, 1, 0, 2, 0, 0, 0, 0, ...   \n",
              "12328  [0, 0, 0, 0, 0, 0, 0, 0, 0, 0, 0, 0, 0, 0, 0, ...   \n",
              "12329  [0, 0, 0, 1, 0, 0, 0, 0, 0, 0, 0, 0, 0, 0, 0, ...   \n",
              "\n",
              "                                                  tokens  \\\n",
              "0      [În, România, ,, ca, de, altfel, în, întreaga,...   \n",
              "1      [Se, estimează, că, în, prezent, acestea, sunt...   \n",
              "2      [Cartea, cuprinde, o, suită, de, 115, texte-re...   \n",
              "3      [Bursele, pentru, proiecte, ArtsLink, -, terme...   \n",
              "4      [Aplicația, informațională, este, însoțită, de...   \n",
              "...                                                  ...   \n",
              "12325  [În, Capitolul, IV, “, Rolul, unităților, de, ...   \n",
              "12326  [Naționala, de, volei, masculin, a, României, ...   \n",
              "12327  [Președintele, Comisiei, de, Buget, a, Senatul...   \n",
              "12328  [Majorarea, este, justificată, de, benzinari, ...   \n",
              "12329  [Între, timp, ,, concubina, acestuia, și-, a, ...   \n",
              "\n",
              "                                             space_after  \\\n",
              "0      [True, False, True, True, True, True, True, Tr...   \n",
              "1      [True, True, True, True, True, True, True, Tru...   \n",
              "2      [True, True, True, True, True, True, True, Tru...   \n",
              "3      [True, True, True, True, True, True, True, Tru...   \n",
              "4      [True, True, True, True, True, True, True, Tru...   \n",
              "...                                                  ...   \n",
              "12325  [True, True, True, False, True, True, True, Tr...   \n",
              "12326  [True, True, True, True, True, True, True, Fal...   \n",
              "12327  [True, True, True, True, True, False, True, Tr...   \n",
              "12328  [True, True, True, True, True, True, True, Tru...   \n",
              "12329  [True, False, True, True, True, False, True, T...   \n",
              "\n",
              "                                               sentences  sentence_index  \\\n",
              "0      În România, ca de altfel în întreaga Europă, s...               0   \n",
              "1      Se estimează că în prezent acestea sunt utiliz...               1   \n",
              "2      Cartea cuprinde o suită de 115 texte-remember ...               2   \n",
              "3      Bursele pentru proiecte ArtsLink - termen limi...               3   \n",
              "4      Aplicația informațională este însoțită de un s...               4   \n",
              "...                                                  ...             ...   \n",
              "12325  În Capitolul IV “Rolul unităților de învățămân...           12325   \n",
              "12326  Naționala de volei masculin a României a învin...           12326   \n",
              "12327  Președintele Comisiei de Buget a Senatului, Vi...           12327   \n",
              "12328  Majorarea este justificată de benzinari prin c...           12328   \n",
              "12329  Între timp, concubina acestuia și-a revenit di...           12329   \n",
              "\n",
              "                                           token_indexes  \n",
              "0      [62075, 52254, 37913, 11774, 3619, 35105, 4684...  \n",
              "1      [23286, 57257, 50272, 46840, 32578, 62081, 279...  \n",
              "2      [63392, 33654, 41178, 7957, 3619, 13629, 42965...  \n",
              "3      [56736, 19486, 25552, 44863, 4591, 28183, 1006...  \n",
              "4      [36643, 6910, 13048, 22966, 3619, 27659, 3566,...  \n",
              "...                                                  ...  \n",
              "12325  [62075, 13278, 44792, 55287, 24054, 32122, 361...  \n",
              "12326  [34227, 3619, 55119, 10601, 35806, 61810, 3580...  \n",
              "12327  [56667, 13502, 3619, 42215, 35806, 48255, 3791...  \n",
              "12328  [45269, 13048, 14957, 3619, 24080, 26890, 6290...  \n",
              "12329  [55272, 23169, 37913, 21436, 25042, 11075, 358...  \n",
              "\n",
              "[12330 rows x 7 columns]"
            ],
            "text/html": [
              "\n",
              "  <div id=\"df-0287d6dc-3853-4944-b4c1-4dcd485b2c54\">\n",
              "    <div class=\"colab-df-container\">\n",
              "      <div>\n",
              "<style scoped>\n",
              "    .dataframe tbody tr th:only-of-type {\n",
              "        vertical-align: middle;\n",
              "    }\n",
              "\n",
              "    .dataframe tbody tr th {\n",
              "        vertical-align: top;\n",
              "    }\n",
              "\n",
              "    .dataframe thead th {\n",
              "        text-align: right;\n",
              "    }\n",
              "</style>\n",
              "<table border=\"1\" class=\"dataframe\">\n",
              "  <thead>\n",
              "    <tr style=\"text-align: right;\">\n",
              "      <th></th>\n",
              "      <th>ner_tags</th>\n",
              "      <th>ner_ids</th>\n",
              "      <th>tokens</th>\n",
              "      <th>space_after</th>\n",
              "      <th>sentences</th>\n",
              "      <th>sentence_index</th>\n",
              "      <th>token_indexes</th>\n",
              "    </tr>\n",
              "  </thead>\n",
              "  <tbody>\n",
              "    <tr>\n",
              "      <th>0</th>\n",
              "      <td>[O, GPE, O, O, O, O, O, O, LOC, O, O, O, O, O,...</td>\n",
              "      <td>[0, 3, 0, 0, 0, 0, 0, 0, 4, 0, 0, 0, 0, 0, 0, ...</td>\n",
              "      <td>[În, România, ,, ca, de, altfel, în, întreaga,...</td>\n",
              "      <td>[True, False, True, True, True, True, True, Tr...</td>\n",
              "      <td>În România, ca de altfel în întreaga Europă, s...</td>\n",
              "      <td>0</td>\n",
              "      <td>[62075, 52254, 37913, 11774, 3619, 35105, 4684...</td>\n",
              "    </tr>\n",
              "    <tr>\n",
              "      <th>1</th>\n",
              "      <td>[O, O, O, DATETIME, DATETIME, O, O, O, O, O, O...</td>\n",
              "      <td>[0, 0, 0, 9, 9, 0, 0, 0, 0, 0, 0, 0, 13, 13, 1...</td>\n",
              "      <td>[Se, estimează, că, în, prezent, acestea, sunt...</td>\n",
              "      <td>[True, True, True, True, True, True, True, Tru...</td>\n",
              "      <td>Se estimează că în prezent acestea sunt utiliz...</td>\n",
              "      <td>1</td>\n",
              "      <td>[23286, 57257, 50272, 46840, 32578, 62081, 279...</td>\n",
              "    </tr>\n",
              "    <tr>\n",
              "      <th>2</th>\n",
              "      <td>[O, O, O, O, O, NUMERIC, O, O, O, PERSON, O, P...</td>\n",
              "      <td>[0, 0, 0, 0, 0, 13, 0, 0, 0, 1, 0, 1, 0, 0, 1,...</td>\n",
              "      <td>[Cartea, cuprinde, o, suită, de, 115, texte-re...</td>\n",
              "      <td>[True, True, True, True, True, True, True, Tru...</td>\n",
              "      <td>Cartea cuprinde o suită de 115 texte-remember ...</td>\n",
              "      <td>2</td>\n",
              "      <td>[63392, 33654, 41178, 7957, 3619, 13629, 42965...</td>\n",
              "    </tr>\n",
              "    <tr>\n",
              "      <th>3</th>\n",
              "      <td>[O, O, O, O, O, O, O, O, O, O, O, DATETIME, DA...</td>\n",
              "      <td>[0, 0, 0, 0, 0, 0, 0, 0, 0, 0, 0, 9, 9, 9, 0]</td>\n",
              "      <td>[Bursele, pentru, proiecte, ArtsLink, -, terme...</td>\n",
              "      <td>[True, True, True, True, True, True, True, Tru...</td>\n",
              "      <td>Bursele pentru proiecte ArtsLink - termen limi...</td>\n",
              "      <td>3</td>\n",
              "      <td>[56736, 19486, 25552, 44863, 4591, 28183, 1006...</td>\n",
              "    </tr>\n",
              "    <tr>\n",
              "      <th>4</th>\n",
              "      <td>[O, O, O, O, O, O, O, O, O, O, O, O, O, O, O, ...</td>\n",
              "      <td>[0, 0, 0, 0, 0, 0, 0, 0, 0, 0, 0, 0, 0, 0, 0, ...</td>\n",
              "      <td>[Aplicația, informațională, este, însoțită, de...</td>\n",
              "      <td>[True, True, True, True, True, True, True, Tru...</td>\n",
              "      <td>Aplicația informațională este însoțită de un s...</td>\n",
              "      <td>4</td>\n",
              "      <td>[36643, 6910, 13048, 22966, 3619, 27659, 3566,...</td>\n",
              "    </tr>\n",
              "    <tr>\n",
              "      <th>...</th>\n",
              "      <td>...</td>\n",
              "      <td>...</td>\n",
              "      <td>...</td>\n",
              "      <td>...</td>\n",
              "      <td>...</td>\n",
              "      <td>...</td>\n",
              "      <td>...</td>\n",
              "    </tr>\n",
              "    <tr>\n",
              "      <th>12325</th>\n",
              "      <td>[O, O, NUMERIC, O, O, O, O, O, O, O, O, O, O, ...</td>\n",
              "      <td>[0, 0, 13, 0, 0, 0, 0, 0, 0, 0, 0, 0, 0, 0, 0,...</td>\n",
              "      <td>[În, Capitolul, IV, “, Rolul, unităților, de, ...</td>\n",
              "      <td>[True, True, True, False, True, True, True, Tr...</td>\n",
              "      <td>În Capitolul IV “Rolul unităților de învățămân...</td>\n",
              "      <td>12325</td>\n",
              "      <td>[62075, 13278, 44792, 55287, 24054, 32122, 361...</td>\n",
              "    </tr>\n",
              "    <tr>\n",
              "      <th>12326</th>\n",
              "      <td>[O, O, O, O, O, GPE, O, O, O, O, GPE, O, GPE, ...</td>\n",
              "      <td>[0, 0, 0, 0, 0, 3, 0, 0, 0, 0, 3, 0, 3, 0, 0, ...</td>\n",
              "      <td>[Naționala, de, volei, masculin, a, României, ...</td>\n",
              "      <td>[True, True, True, True, True, True, True, Fal...</td>\n",
              "      <td>Naționala de volei masculin a României a învin...</td>\n",
              "      <td>12326</td>\n",
              "      <td>[34227, 3619, 55119, 10601, 35806, 61810, 3580...</td>\n",
              "    </tr>\n",
              "    <tr>\n",
              "      <th>12327</th>\n",
              "      <td>[PERSON, O, O, O, O, ORG, O, PERSON, PERSON, O...</td>\n",
              "      <td>[1, 0, 0, 0, 0, 2, 0, 1, 1, 0, 2, 0, 0, 0, 0, ...</td>\n",
              "      <td>[Președintele, Comisiei, de, Buget, a, Senatul...</td>\n",
              "      <td>[True, True, True, True, True, False, True, Tr...</td>\n",
              "      <td>Președintele Comisiei de Buget a Senatului, Vi...</td>\n",
              "      <td>12327</td>\n",
              "      <td>[56667, 13502, 3619, 42215, 35806, 48255, 3791...</td>\n",
              "    </tr>\n",
              "    <tr>\n",
              "      <th>12328</th>\n",
              "      <td>[O, O, O, O, O, O, O, O, O, O, O, O, O, O, O, ...</td>\n",
              "      <td>[0, 0, 0, 0, 0, 0, 0, 0, 0, 0, 0, 0, 0, 0, 0, ...</td>\n",
              "      <td>[Majorarea, este, justificată, de, benzinari, ...</td>\n",
              "      <td>[True, True, True, True, True, True, True, Tru...</td>\n",
              "      <td>Majorarea este justificată de benzinari prin c...</td>\n",
              "      <td>12328</td>\n",
              "      <td>[45269, 13048, 14957, 3619, 24080, 26890, 6290...</td>\n",
              "    </tr>\n",
              "    <tr>\n",
              "      <th>12329</th>\n",
              "      <td>[O, O, O, PERSON, O, O, O, O, O, O, O, O, O, O...</td>\n",
              "      <td>[0, 0, 0, 1, 0, 0, 0, 0, 0, 0, 0, 0, 0, 0, 0, ...</td>\n",
              "      <td>[Între, timp, ,, concubina, acestuia, și-, a, ...</td>\n",
              "      <td>[True, False, True, True, True, False, True, T...</td>\n",
              "      <td>Între timp, concubina acestuia și-a revenit di...</td>\n",
              "      <td>12329</td>\n",
              "      <td>[55272, 23169, 37913, 21436, 25042, 11075, 358...</td>\n",
              "    </tr>\n",
              "  </tbody>\n",
              "</table>\n",
              "<p>12330 rows × 7 columns</p>\n",
              "</div>\n",
              "      <button class=\"colab-df-convert\" onclick=\"convertToInteractive('df-0287d6dc-3853-4944-b4c1-4dcd485b2c54')\"\n",
              "              title=\"Convert this dataframe to an interactive table.\"\n",
              "              style=\"display:none;\">\n",
              "        \n",
              "  <svg xmlns=\"http://www.w3.org/2000/svg\" height=\"24px\"viewBox=\"0 0 24 24\"\n",
              "       width=\"24px\">\n",
              "    <path d=\"M0 0h24v24H0V0z\" fill=\"none\"/>\n",
              "    <path d=\"M18.56 5.44l.94 2.06.94-2.06 2.06-.94-2.06-.94-.94-2.06-.94 2.06-2.06.94zm-11 1L8.5 8.5l.94-2.06 2.06-.94-2.06-.94L8.5 2.5l-.94 2.06-2.06.94zm10 10l.94 2.06.94-2.06 2.06-.94-2.06-.94-.94-2.06-.94 2.06-2.06.94z\"/><path d=\"M17.41 7.96l-1.37-1.37c-.4-.4-.92-.59-1.43-.59-.52 0-1.04.2-1.43.59L10.3 9.45l-7.72 7.72c-.78.78-.78 2.05 0 2.83L4 21.41c.39.39.9.59 1.41.59.51 0 1.02-.2 1.41-.59l7.78-7.78 2.81-2.81c.8-.78.8-2.07 0-2.86zM5.41 20L4 18.59l7.72-7.72 1.47 1.35L5.41 20z\"/>\n",
              "  </svg>\n",
              "      </button>\n",
              "      \n",
              "  <style>\n",
              "    .colab-df-container {\n",
              "      display:flex;\n",
              "      flex-wrap:wrap;\n",
              "      gap: 12px;\n",
              "    }\n",
              "\n",
              "    .colab-df-convert {\n",
              "      background-color: #E8F0FE;\n",
              "      border: none;\n",
              "      border-radius: 50%;\n",
              "      cursor: pointer;\n",
              "      display: none;\n",
              "      fill: #1967D2;\n",
              "      height: 32px;\n",
              "      padding: 0 0 0 0;\n",
              "      width: 32px;\n",
              "    }\n",
              "\n",
              "    .colab-df-convert:hover {\n",
              "      background-color: #E2EBFA;\n",
              "      box-shadow: 0px 1px 2px rgba(60, 64, 67, 0.3), 0px 1px 3px 1px rgba(60, 64, 67, 0.15);\n",
              "      fill: #174EA6;\n",
              "    }\n",
              "\n",
              "    [theme=dark] .colab-df-convert {\n",
              "      background-color: #3B4455;\n",
              "      fill: #D2E3FC;\n",
              "    }\n",
              "\n",
              "    [theme=dark] .colab-df-convert:hover {\n",
              "      background-color: #434B5C;\n",
              "      box-shadow: 0px 1px 3px 1px rgba(0, 0, 0, 0.15);\n",
              "      filter: drop-shadow(0px 1px 2px rgba(0, 0, 0, 0.3));\n",
              "      fill: #FFFFFF;\n",
              "    }\n",
              "  </style>\n",
              "\n",
              "      <script>\n",
              "        const buttonEl =\n",
              "          document.querySelector('#df-0287d6dc-3853-4944-b4c1-4dcd485b2c54 button.colab-df-convert');\n",
              "        buttonEl.style.display =\n",
              "          google.colab.kernel.accessAllowed ? 'block' : 'none';\n",
              "\n",
              "        async function convertToInteractive(key) {\n",
              "          const element = document.querySelector('#df-0287d6dc-3853-4944-b4c1-4dcd485b2c54');\n",
              "          const dataTable =\n",
              "            await google.colab.kernel.invokeFunction('convertToInteractive',\n",
              "                                                     [key], {});\n",
              "          if (!dataTable) return;\n",
              "\n",
              "          const docLinkHtml = 'Like what you see? Visit the ' +\n",
              "            '<a target=\"_blank\" href=https://colab.research.google.com/notebooks/data_table.ipynb>data table notebook</a>'\n",
              "            + ' to learn more about interactive tables.';\n",
              "          element.innerHTML = '';\n",
              "          dataTable['output_type'] = 'display_data';\n",
              "          await google.colab.output.renderOutput(dataTable, element);\n",
              "          const docLink = document.createElement('div');\n",
              "          docLink.innerHTML = docLinkHtml;\n",
              "          element.appendChild(docLink);\n",
              "        }\n",
              "      </script>\n",
              "    </div>\n",
              "  </div>\n",
              "  "
            ]
          },
          "metadata": {},
          "execution_count": 19
        }
      ]
    },
    {
      "cell_type": "code",
      "source": [
        "! pip install keras.utils"
      ],
      "metadata": {
        "colab": {
          "base_uri": "https://localhost:8080/"
        },
        "id": "L0x356ryZgJe",
        "outputId": "dff1d0c6-88b1-4296-90c6-4c683238da02"
      },
      "execution_count": 20,
      "outputs": [
        {
          "output_type": "stream",
          "name": "stdout",
          "text": [
            "Requirement already satisfied: keras.utils in /usr/local/lib/python3.7/dist-packages (1.0.13)\n",
            "Requirement already satisfied: Keras>=2.1.5 in /usr/local/lib/python3.7/dist-packages (from keras.utils) (2.8.0)\n"
          ]
        }
      ]
    },
    {
      "cell_type": "code",
      "source": [
        "from keras.preprocessing.sequence import pad_sequences\n",
        "from tensorflow.keras.utils import to_categorical"
      ],
      "metadata": {
        "id": "ssamVspTZYQx"
      },
      "execution_count": 21,
      "outputs": []
    },
    {
      "cell_type": "code",
      "source": [
        "import tensorflow as tf"
      ],
      "metadata": {
        "id": "jSf9DAnnlyQx"
      },
      "execution_count": 22,
      "outputs": []
    },
    {
      "cell_type": "code",
      "source": [
        "# add padding\n",
        "all_tokens = continuturi[\"token_indexes\"].to_list()\n",
        "max_len = max([len(s) for s in all_tokens])\n",
        "pad_tokens = pad_sequences(all_tokens, maxlen=max_len, dtype=\"int32\", padding=\"post\", value=words_dict[\".\"])\n",
        "\n",
        "all_tags = continuturi[\"ner_ids\"].to_list()\n",
        "pad_tags = pad_sequences(all_tags, maxlen=max_len, dtype=\"int32\", padding=\"post\", value=tag_ids[\"O\"])\n",
        "number_of_tags = len(tag_ids)\n",
        "pad_tags = [to_categorical(i, num_classes=number_of_tags) for i in pad_tags]\n",
        "\n",
        "\n",
        "train_tokens = tf.convert_to_tensor(pad_tokens)\n",
        "train_tags = tf.convert_to_tensor(pad_tags)"
      ],
      "metadata": {
        "id": "VY7Q5ZQXORFW"
      },
      "execution_count": 23,
      "outputs": []
    },
    {
      "cell_type": "code",
      "source": [
        "type(train_tokens)"
      ],
      "metadata": {
        "colab": {
          "base_uri": "https://localhost:8080/"
        },
        "id": "pWOVxoNNsmvF",
        "outputId": "19adaf06-1c6a-47ce-d2c1-3ba25fd45b15"
      },
      "execution_count": 24,
      "outputs": [
        {
          "output_type": "execute_result",
          "data": {
            "text/plain": [
              "tensorflow.python.framework.ops.EagerTensor"
            ]
          },
          "metadata": {},
          "execution_count": 24
        }
      ]
    },
    {
      "cell_type": "code",
      "source": [
        "import numpy as np\n",
        "from tensorflow.keras import Sequential, Model, Input\n",
        "from tensorflow.keras.layers import LSTM, Embedding, Dense, TimeDistributed, Dropout, Bidirectional\n",
        "from tensorflow.keras.utils import plot_model\n",
        "\n",
        "chitcanii_de_camp_seed = 15\n",
        "tf.random.set_seed(chitcanii_de_camp_seed)"
      ],
      "metadata": {
        "id": "d-brbBJ-YAKr"
      },
      "execution_count": 25,
      "outputs": []
    },
    {
      "cell_type": "code",
      "source": [
        "max_len\n",
        "import os"
      ],
      "metadata": {
        "id": "7lywGWNVdqg4"
      },
      "execution_count": 26,
      "outputs": []
    },
    {
      "cell_type": "code",
      "source": [
        "input_dim = len(contents_df[\"word\"])\n",
        "output_dim = 64\n",
        "input_length = max_len\n",
        "n_tags = len(tag_ids)\n",
        "\n",
        "dir = os.path.join(os.getcwd(), 'saved_models')\n",
        "model_name = 'lstm.{epoch:03d}.h5' \n",
        "if not os.path.isdir(dir):\n",
        "    os.makedirs(dir)\n",
        "filepath = os.path.join(dir, model_name)\n",
        "\n",
        "model_checkpoint_callback = tf.keras.callbacks.ModelCheckpoint(\n",
        "    filepath=filepath,\n",
        "    save_weights_only=True,\n",
        "    monitor='val_accuracy',\n",
        "    mode='max',\n",
        "    save_best_only=True)\n",
        "\n",
        "\n",
        "def get_bilstm_lstm_model():\n",
        "    model = Sequential()\n",
        "\n",
        "    # Add Embedding layer\n",
        "    model.add(Embedding(input_dim=input_dim, output_dim=output_dim, input_length=input_length))\n",
        "\n",
        "    # Add bidirectional LSTM\n",
        "    model.add(Bidirectional(LSTM(units=output_dim, return_sequences=True, dropout=0.2), merge_mode = \"concat\"))\n",
        "\n",
        "    # Add LSTM\n",
        "    model.add(LSTM(units=output_dim, return_sequences=True, dropout=0.5))\n",
        "\n",
        "    # Add timeDistributed Layer\n",
        "    model.add(TimeDistributed(Dense(n_tags, activation=\"relu\")))\n",
        "\n",
        "    # Optimiser \n",
        "    # adam = k.optimizers.Adam(lr=0.0005, beta_1=0.9, beta_2=0.999)\n",
        "\n",
        "    # Compile model\n",
        "    model.compile(loss=\"categorical_crossentropy\", optimizer=\"Adam\", metrics=[\"accuracy\"])\n",
        "    model.summary()\n",
        "    \n",
        "    \n",
        "    return model"
      ],
      "metadata": {
        "id": "m7RV3Ky0gTyQ"
      },
      "execution_count": 27,
      "outputs": []
    },
    {
      "cell_type": "code",
      "source": [
        "def train_model(X, y, model):\n",
        "    loss = list()\n",
        "    for i in range(30): # replace to 10\n",
        "        # fit model for one epoch on this sequence\n",
        "        print(f\"Training in epoch {i + 1}\")\n",
        "        hist = model.fit(X, y, batch_size=100, verbose=1, epochs=1, validation_split=0.2, callbacks=[model_checkpoint_callback])\n",
        "        loss.append(hist.history[\"loss\"][0])\n",
        "    return loss"
      ],
      "metadata": {
        "id": "xPqkijB2h-Qg"
      },
      "execution_count": 28,
      "outputs": []
    },
    {
      "cell_type": "code",
      "source": [
        "results = pd.DataFrame()\n",
        "model_bilstm_lstm = get_bilstm_lstm_model()\n",
        "plot_model(model_bilstm_lstm)\n",
        "results[\"with_add_lstm\"] = train_model(train_tokens, np.array(train_tags), model_bilstm_lstm)"
      ],
      "metadata": {
        "colab": {
          "base_uri": "https://localhost:8080/"
        },
        "id": "tKmmzYdvjJQt",
        "outputId": "5a5e6e17-2d96-47d7-ac5d-0e24705159fa"
      },
      "execution_count": 29,
      "outputs": [
        {
          "output_type": "stream",
          "name": "stdout",
          "text": [
            "Model: \"sequential\"\n",
            "_________________________________________________________________\n",
            " Layer (type)                Output Shape              Param #   \n",
            "=================================================================\n",
            " embedding (Embedding)       (None, 561, 64)           35402432  \n",
            "                                                                 \n",
            " bidirectional (Bidirectiona  (None, 561, 128)         66048     \n",
            " l)                                                              \n",
            "                                                                 \n",
            " lstm_1 (LSTM)               (None, 561, 64)           49408     \n",
            "                                                                 \n",
            " time_distributed (TimeDistr  (None, 561, 16)          1040      \n",
            " ibuted)                                                         \n",
            "                                                                 \n",
            "=================================================================\n",
            "Total params: 35,518,928\n",
            "Trainable params: 35,518,928\n",
            "Non-trainable params: 0\n",
            "_________________________________________________________________\n",
            "Training in epoch 1\n",
            "99/99 [==============================] - 20s 137ms/step - loss: 0.2092 - accuracy: 0.9704 - val_loss: 0.1338 - val_accuracy: 0.9793\n",
            "Training in epoch 2\n",
            "99/99 [==============================] - 12s 120ms/step - loss: 0.1411 - accuracy: 0.9797 - val_loss: 0.1347 - val_accuracy: 0.9793\n",
            "Training in epoch 3\n",
            "99/99 [==============================] - 12s 123ms/step - loss: 0.1191 - accuracy: 0.9797 - val_loss: 0.1315 - val_accuracy: 0.9794\n",
            "Training in epoch 4\n",
            "99/99 [==============================] - 12s 120ms/step - loss: 0.1127 - accuracy: 0.9796 - val_loss: 0.1152 - val_accuracy: 0.9792\n",
            "Training in epoch 5\n",
            "99/99 [==============================] - 12s 122ms/step - loss: 0.1068 - accuracy: 0.9797 - val_loss: 0.0993 - val_accuracy: 0.9791\n",
            "Training in epoch 6\n",
            "99/99 [==============================] - 12s 125ms/step - loss: 0.0905 - accuracy: 0.9798 - val_loss: 0.1152 - val_accuracy: 0.9794\n",
            "Training in epoch 7\n",
            "99/99 [==============================] - 12s 126ms/step - loss: 0.0974 - accuracy: 0.9784 - val_loss: 0.0857 - val_accuracy: 0.9794\n",
            "Training in epoch 8\n",
            "99/99 [==============================] - 13s 127ms/step - loss: 0.0676 - accuracy: 0.9800 - val_loss: 0.0754 - val_accuracy: 0.9797\n",
            "Training in epoch 9\n",
            "99/99 [==============================] - 12s 125ms/step - loss: 0.0577 - accuracy: 0.9807 - val_loss: 0.0761 - val_accuracy: 0.9806\n",
            "Training in epoch 10\n",
            "99/99 [==============================] - 13s 127ms/step - loss: 0.0528 - accuracy: 0.9821 - val_loss: 0.0773 - val_accuracy: 0.9813\n",
            "Training in epoch 11\n",
            "99/99 [==============================] - 12s 124ms/step - loss: 0.0523 - accuracy: 0.9822 - val_loss: 0.0833 - val_accuracy: 0.9803\n",
            "Training in epoch 12\n",
            "99/99 [==============================] - 13s 127ms/step - loss: 0.0517 - accuracy: 0.9818 - val_loss: 0.0795 - val_accuracy: 0.9814\n",
            "Training in epoch 13\n",
            "99/99 [==============================] - 13s 128ms/step - loss: 0.0467 - accuracy: 0.9834 - val_loss: 0.0795 - val_accuracy: 0.9822\n",
            "Training in epoch 14\n",
            "99/99 [==============================] - 13s 127ms/step - loss: 0.0432 - accuracy: 0.9838 - val_loss: 0.0782 - val_accuracy: 0.9826\n",
            "Training in epoch 15\n",
            "99/99 [==============================] - 13s 127ms/step - loss: 0.0407 - accuracy: 0.9853 - val_loss: 0.0825 - val_accuracy: 0.9838\n",
            "Training in epoch 16\n",
            "99/99 [==============================] - 13s 127ms/step - loss: nan - accuracy: 0.9857 - val_loss: 0.0828 - val_accuracy: 0.9844\n",
            "Training in epoch 17\n",
            "99/99 [==============================] - 13s 127ms/step - loss: nan - accuracy: 0.9864 - val_loss: 0.0791 - val_accuracy: 0.9848\n",
            "Training in epoch 18\n",
            "99/99 [==============================] - 13s 133ms/step - loss: nan - accuracy: 0.9877 - val_loss: 0.0889 - val_accuracy: 0.9855\n",
            "Training in epoch 19\n",
            "99/99 [==============================] - 13s 128ms/step - loss: nan - accuracy: 0.9885 - val_loss: nan - val_accuracy: 0.9862\n",
            "Training in epoch 20\n",
            "99/99 [==============================] - 13s 129ms/step - loss: nan - accuracy: 0.9878 - val_loss: 0.0794 - val_accuracy: 0.9861\n",
            "Training in epoch 21\n",
            "99/99 [==============================] - 13s 127ms/step - loss: nan - accuracy: 0.9893 - val_loss: nan - val_accuracy: 0.9870\n",
            "Training in epoch 22\n",
            "99/99 [==============================] - 13s 127ms/step - loss: nan - accuracy: 0.9900 - val_loss: nan - val_accuracy: 0.9873\n",
            "Training in epoch 23\n",
            "99/99 [==============================] - 13s 130ms/step - loss: nan - accuracy: 0.9909 - val_loss: nan - val_accuracy: 0.9881\n",
            "Training in epoch 24\n",
            "99/99 [==============================] - 13s 129ms/step - loss: nan - accuracy: 0.9899 - val_loss: 0.0738 - val_accuracy: 0.9881\n",
            "Training in epoch 25\n",
            "99/99 [==============================] - 13s 126ms/step - loss: nan - accuracy: 0.9896 - val_loss: nan - val_accuracy: 0.9880\n",
            "Training in epoch 26\n",
            "99/99 [==============================] - 13s 126ms/step - loss: nan - accuracy: 0.9897 - val_loss: 0.0872 - val_accuracy: 0.9829\n",
            "Training in epoch 27\n",
            "99/99 [==============================] - 13s 130ms/step - loss: nan - accuracy: 0.9893 - val_loss: nan - val_accuracy: 0.9889\n",
            "Training in epoch 28\n",
            "99/99 [==============================] - 13s 133ms/step - loss: nan - accuracy: 0.9920 - val_loss: nan - val_accuracy: 0.9895\n",
            "Training in epoch 29\n",
            "99/99 [==============================] - 13s 128ms/step - loss: nan - accuracy: 0.9932 - val_loss: nan - val_accuracy: 0.9897\n",
            "Training in epoch 30\n",
            "99/99 [==============================] - 13s 127ms/step - loss: nan - accuracy: 0.9938 - val_loss: nan - val_accuracy: 0.9906\n"
          ]
        }
      ]
    },
    {
      "cell_type": "code",
      "source": [
        "# save model\n",
        "import pickle\n",
        "\n",
        "\n",
        "with open(\"lstm_model.pkl\", \"wb\") as f:\n",
        "    pickle.dump(model_bilstm_lstm, f)\n",
        "\n",
        "# load model\n",
        "# with open(\"lstm_model.pkl\", \"rb\") as f:\n",
        "#     model_bilstm_lstm = pickle.load(f)"
      ],
      "metadata": {
        "id": "wHLrfSZ91FVl",
        "colab": {
          "base_uri": "https://localhost:8080/"
        },
        "outputId": "d1e1f7a2-c114-4d66-8419-46681eaa22fe"
      },
      "execution_count": 30,
      "outputs": [
        {
          "output_type": "stream",
          "name": "stderr",
          "text": [
            "WARNING:absl:Found untraced functions such as lstm_cell_3_layer_call_fn, lstm_cell_3_layer_call_and_return_conditional_losses, lstm_cell_1_layer_call_fn, lstm_cell_1_layer_call_and_return_conditional_losses, lstm_cell_2_layer_call_fn while saving (showing 5 of 6). These functions will not be directly callable after loading.\n"
          ]
        },
        {
          "output_type": "stream",
          "name": "stdout",
          "text": [
            "INFO:tensorflow:Assets written to: ram://639bfbf3-608a-48c6-9995-edf47ddbdf70/assets\n"
          ]
        },
        {
          "output_type": "stream",
          "name": "stderr",
          "text": [
            "INFO:tensorflow:Assets written to: ram://639bfbf3-608a-48c6-9995-edf47ddbdf70/assets\n",
            "WARNING:absl:<keras.layers.recurrent.LSTMCell object at 0x7f79801a6890> has the same name 'LSTMCell' as a built-in Keras object. Consider renaming <class 'keras.layers.recurrent.LSTMCell'> to avoid naming conflicts when loading with `tf.keras.models.load_model`. If renaming is not possible, pass the object in the `custom_objects` parameter of the load function.\n",
            "WARNING:absl:<keras.layers.recurrent.LSTMCell object at 0x7f79800ec650> has the same name 'LSTMCell' as a built-in Keras object. Consider renaming <class 'keras.layers.recurrent.LSTMCell'> to avoid naming conflicts when loading with `tf.keras.models.load_model`. If renaming is not possible, pass the object in the `custom_objects` parameter of the load function.\n",
            "WARNING:absl:<keras.layers.recurrent.LSTMCell object at 0x7f79800922d0> has the same name 'LSTMCell' as a built-in Keras object. Consider renaming <class 'keras.layers.recurrent.LSTMCell'> to avoid naming conflicts when loading with `tf.keras.models.load_model`. If renaming is not possible, pass the object in the `custom_objects` parameter of the load function.\n"
          ]
        }
      ]
    },
    {
      "cell_type": "code",
      "source": [
        "path = './test.json'\n",
        "test_df = pd.read_json(path)"
      ],
      "metadata": {
        "id": "Owm7xedaJS_R"
      },
      "execution_count": 32,
      "outputs": []
    },
    {
      "cell_type": "code",
      "source": [
        "all_representations = []\n",
        "for i in range(len(test_df)):\n",
        "  embeddings = []\n",
        "  for p in test_df['tokens'][i]:\n",
        "    if p in words_dict.keys():\n",
        "      embeddings.append(words_dict[p])\n",
        "    else:\n",
        "      embeddings.append(-1)\n",
        "  all_representations.append(embeddings)\n"
      ],
      "metadata": {
        "id": "IPSw3ZVEJfQk"
      },
      "execution_count": 33,
      "outputs": []
    },
    {
      "cell_type": "code",
      "source": [
        "pad_tokens = pad_sequences(all_representations, maxlen=max_len, dtype=\"int32\", padding=\"post\", value=words_dict[\".\"])\n",
        "test_tokens = tf.convert_to_tensor(pad_tokens)"
      ],
      "metadata": {
        "id": "NNh7U003LS8W"
      },
      "execution_count": 36,
      "outputs": []
    },
    {
      "cell_type": "code",
      "source": [
        "test_tokens.shape"
      ],
      "metadata": {
        "colab": {
          "base_uri": "https://localhost:8080/"
        },
        "id": "dGv-xWBNLo5P",
        "outputId": "d3df9f80-246b-4793-8a75-63106ff4312c"
      },
      "execution_count": 38,
      "outputs": [
        {
          "output_type": "execute_result",
          "data": {
            "text/plain": [
              "TensorShape([2421, 561])"
            ]
          },
          "metadata": {},
          "execution_count": 38
        }
      ]
    },
    {
      "cell_type": "code",
      "source": [
        "predictions = model_bilstm_lstm.predict(test_tokens)"
      ],
      "metadata": {
        "id": "evZGa6odLu3f"
      },
      "execution_count": 39,
      "outputs": []
    },
    {
      "cell_type": "code",
      "source": [
        "predictions.shape"
      ],
      "metadata": {
        "colab": {
          "base_uri": "https://localhost:8080/"
        },
        "id": "F-M3jLoPL8nT",
        "outputId": "0f7f91af-4540-44b1-cc96-f11c3c0c87e0"
      },
      "execution_count": 41,
      "outputs": [
        {
          "output_type": "execute_result",
          "data": {
            "text/plain": [
              "(2421, 561, 16)"
            ]
          },
          "metadata": {},
          "execution_count": 41
        }
      ]
    },
    {
      "cell_type": "code",
      "source": [
        "words = []\n",
        "preds = [] \n",
        "j = 0\n",
        "for i in range(len(test_df)):\n",
        "  for x in range(len(test_df['tokens'][i])):\n",
        "      preds.append(int(tf.argmax(predictions[i][x])))\n",
        "      words.append(j)\n",
        "      j += 1\n",
        " "
      ],
      "metadata": {
        "id": "luQ67NvSL-jE"
      },
      "execution_count": 52,
      "outputs": []
    },
    {
      "cell_type": "code",
      "source": [
        "preds[0]"
      ],
      "metadata": {
        "colab": {
          "base_uri": "https://localhost:8080/"
        },
        "id": "kXSkvqzHOO9c",
        "outputId": "1a6ead56-5e01-43ab-d5cd-ec9f1d3b6971"
      },
      "execution_count": 53,
      "outputs": [
        {
          "output_type": "execute_result",
          "data": {
            "text/plain": [
              "0"
            ]
          },
          "metadata": {},
          "execution_count": 53
        }
      ]
    },
    {
      "cell_type": "code",
      "source": [
        "import csv\n",
        "\n",
        "header = ['Id', 'ner_label']\n",
        "\n",
        "with open('submission.csv', 'w') as f:\n",
        "  writer = csv.writer(f)\n",
        "  writer.writerow(header)\n",
        "  for i, pred_label in enumerate(preds):\n",
        "    writer.writerow([i, pred_label])"
      ],
      "metadata": {
        "id": "1a4CR0nXMgIR"
      },
      "execution_count": 54,
      "outputs": []
    },
    {
      "cell_type": "code",
      "source": [
        ""
      ],
      "metadata": {
        "id": "A54iqqMLONUd"
      },
      "execution_count": null,
      "outputs": []
    }
  ]
}
